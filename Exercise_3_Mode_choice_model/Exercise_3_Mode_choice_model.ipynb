{
  "cells": [
    {
      "cell_type": "markdown",
      "metadata": {
        "id": "R__DcXTj-zbL"
      },
      "source": [
        "# Exercise 3: Mode choice classification\n",
        "\n",
        "Transportation mode choice is a critical decision-making process that individuals, businesses, and urban planners face daily. It involves selecting the most suitable mode of transportation for a given journey/trip, taking into account factors such as cost, time, convenience, and environmental impact. In this tutorial, we will explore how to address the mode choice problem using classification models.\n",
        "\n",
        "**Key points to cover:**\n",
        "\n",
        "* Mode choice problem;\n",
        "* *Encoding techniques* for categorical variables\n",
        "* Classification models *implementation*\n",
        "* Classification models *evaluation metrics*\n"
      ]
    },
    {
      "cell_type": "code",
      "execution_count": 37,
      "metadata": {
        "id": "121uD1UhQ_-X"
      },
      "outputs": [],
      "source": [
        "import pandas as pd\n",
        "from statistics import mode\n",
        "import numpy as np\n",
        "import os"
      ]
    },
    {
      "cell_type": "markdown",
      "metadata": {
        "id": "08qMPRhP_ci_"
      },
      "source": [
        "## Loading the dataset"
      ]
    },
    {
      "cell_type": "code",
      "execution_count": 38,
      "metadata": {
        "id": "Ap0p7etz_bgX"
      },
      "outputs": [],
      "source": [
        "# The path of the dataset\n",
        "url = 'https://raw.githubusercontent.com/zhenliangma/Applied-AI-in-Transportation/master/Exercise_3_Mode_choice_model/modeChoiceData.csv'\n",
        "# Load the data use the pandas\n",
        "moide_choice_data = pd.read_csv(url)"
      ]
    },
    {
      "cell_type": "markdown",
      "metadata": {
        "id": "ug2z8HSFiFua"
      },
      "source": [
        "## Data Preparation\n",
        "\n",
        "Transform the dataset into a binary classification problem: car vs. rail."
      ]
    },
    {
      "cell_type": "code",
      "execution_count": 39,
      "metadata": {
        "id": "LIXnje53RCM8"
      },
      "outputs": [],
      "source": [
        "mode_choice_car_df = (\n",
        "    moide_choice_data.loc[moide_choice_data[\"choice\"].isin([\"car\", \"rail\"]),\n",
        "     [\"time_car\", \"cost_car\", \"time_rail\", \"cost_rail\", \"access_rail\", \"service_rail\", \"choice\"]]\n",
        "    .reset_index()\n",
        "    .drop(columns=[\"index\"])\n",
        ")"
      ]
    },
    {
      "cell_type": "markdown",
      "metadata": {
        "id": "_J1clfo5oO43"
      },
      "source": [
        "Check the distribution of the classes:"
      ]
    },
    {
      "cell_type": "code",
      "execution_count": 40,
      "metadata": {
        "colab": {
          "base_uri": "https://localhost:8080/",
          "height": 472
        },
        "id": "C1pIrz7voMky",
        "outputId": "a0c35651-1e23-46e5-abcf-a0813aae6853"
      },
      "outputs": [
        {
          "data": {
            "image/png": "[encoded data removed]",
            "text/plain": [
              "<Figure size 640x480 with 1 Axes>"
            ]
          },
          "metadata": {},
          "output_type": "display_data"
        }
      ],
      "source": [
        "import seaborn as sns\n",
        "import matplotlib.pyplot as plt\n",
        "\n",
        "# Assuming the classes are stored in a column called 'class'\n",
        "sns.countplot(data=mode_choice_car_df, x='choice')\n",
        "\n",
        "# Add title and labels\n",
        "plt.title('Distribution of Classes')\n",
        "plt.xlabel('Class')\n",
        "plt.ylabel('Count')\n",
        "\n",
        "# Show the plot\n",
        "plt.show()"
      ]
    },
    {
      "cell_type": "code",
      "execution_count": 41,
      "metadata": {
        "colab": {
          "base_uri": "https://localhost:8080/",
          "height": 363
        },
        "id": "jDGQL7Gnoy8C",
        "outputId": "24de7a26-30b8-44c5-9644-486c00e49977"
      },
      "outputs": [
        {
          "data": {
            "text/html": [
              "<div>\n",
              "<style scoped>\n",
              "    .dataframe tbody tr th:only-of-type {\n",
              "        vertical-align: middle;\n",
              "    }\n",
              "\n",
              "    .dataframe tbody tr th {\n",
              "        vertical-align: top;\n",
              "    }\n",
              "\n",
              "    .dataframe thead th {\n",
              "        text-align: right;\n",
              "    }\n",
              "</style>\n",
              "<table border=\"1\" class=\"dataframe\">\n",
              "  <thead>\n",
              "    <tr style=\"text-align: right;\">\n",
              "      <th></th>\n",
              "      <th>time_car</th>\n",
              "      <th>cost_car</th>\n",
              "      <th>time_rail</th>\n",
              "      <th>cost_rail</th>\n",
              "      <th>access_rail</th>\n",
              "      <th>service_rail</th>\n",
              "      <th>choice</th>\n",
              "    </tr>\n",
              "  </thead>\n",
              "  <tbody>\n",
              "    <tr>\n",
              "      <th>0</th>\n",
              "      <td>275</td>\n",
              "      <td>45</td>\n",
              "      <td>170</td>\n",
              "      <td>55</td>\n",
              "      <td>25</td>\n",
              "      <td>food</td>\n",
              "      <td>rail</td>\n",
              "    </tr>\n",
              "    <tr>\n",
              "      <th>1</th>\n",
              "      <td>275</td>\n",
              "      <td>45</td>\n",
              "      <td>155</td>\n",
              "      <td>35</td>\n",
              "      <td>5</td>\n",
              "      <td>no-frills</td>\n",
              "      <td>rail</td>\n",
              "    </tr>\n",
              "    <tr>\n",
              "      <th>2</th>\n",
              "      <td>300</td>\n",
              "      <td>45</td>\n",
              "      <td>155</td>\n",
              "      <td>65</td>\n",
              "      <td>20</td>\n",
              "      <td>no-frills</td>\n",
              "      <td>rail</td>\n",
              "    </tr>\n",
              "    <tr>\n",
              "      <th>3</th>\n",
              "      <td>390</td>\n",
              "      <td>35</td>\n",
              "      <td>155</td>\n",
              "      <td>65</td>\n",
              "      <td>15</td>\n",
              "      <td>food</td>\n",
              "      <td>rail</td>\n",
              "    </tr>\n",
              "    <tr>\n",
              "      <th>4</th>\n",
              "      <td>275</td>\n",
              "      <td>40</td>\n",
              "      <td>155</td>\n",
              "      <td>55</td>\n",
              "      <td>5</td>\n",
              "      <td>food</td>\n",
              "      <td>rail</td>\n",
              "    </tr>\n",
              "    <tr>\n",
              "      <th>5</th>\n",
              "      <td>250</td>\n",
              "      <td>50</td>\n",
              "      <td>120</td>\n",
              "      <td>65</td>\n",
              "      <td>20</td>\n",
              "      <td>wifi</td>\n",
              "      <td>rail</td>\n",
              "    </tr>\n",
              "    <tr>\n",
              "      <th>6</th>\n",
              "      <td>275</td>\n",
              "      <td>30</td>\n",
              "      <td>155</td>\n",
              "      <td>65</td>\n",
              "      <td>25</td>\n",
              "      <td>wifi</td>\n",
              "      <td>car</td>\n",
              "    </tr>\n",
              "    <tr>\n",
              "      <th>7</th>\n",
              "      <td>300</td>\n",
              "      <td>45</td>\n",
              "      <td>170</td>\n",
              "      <td>45</td>\n",
              "      <td>5</td>\n",
              "      <td>no-frills</td>\n",
              "      <td>rail</td>\n",
              "    </tr>\n",
              "    <tr>\n",
              "      <th>8</th>\n",
              "      <td>345</td>\n",
              "      <td>30</td>\n",
              "      <td>140</td>\n",
              "      <td>65</td>\n",
              "      <td>15</td>\n",
              "      <td>no-frills</td>\n",
              "      <td>car</td>\n",
              "    </tr>\n",
              "    <tr>\n",
              "      <th>9</th>\n",
              "      <td>250</td>\n",
              "      <td>40</td>\n",
              "      <td>140</td>\n",
              "      <td>75</td>\n",
              "      <td>20</td>\n",
              "      <td>wifi</td>\n",
              "      <td>car</td>\n",
              "    </tr>\n",
              "  </tbody>\n",
              "</table>\n",
              "</div>"
            ],
            "text/plain": [
              "   time_car  cost_car  time_rail  cost_rail  access_rail service_rail choice\n",
              "0       275        45        170         55           25         food   rail\n",
              "1       275        45        155         35            5    no-frills   rail\n",
              "2       300        45        155         65           20    no-frills   rail\n",
              "3       390        35        155         65           15         food   rail\n",
              "4       275        40        155         55            5         food   rail\n",
              "5       250        50        120         65           20         wifi   rail\n",
              "6       275        30        155         65           25         wifi    car\n",
              "7       300        45        170         45            5    no-frills   rail\n",
              "8       345        30        140         65           15    no-frills    car\n",
              "9       250        40        140         75           20         wifi    car"
            ]
          },
          "execution_count": 41,
          "metadata": {},
          "output_type": "execute_result"
        }
      ],
      "source": [
        "mode_choice_car_df.head(10)"
      ]
    },
    {
      "cell_type": "markdown",
      "metadata": {
        "id": "_kbmqIKe_o_r"
      },
      "source": [
        "Get to know the different values for the categorical variable *service rail*."
      ]
    },
    {
      "cell_type": "code",
      "execution_count": 42,
      "metadata": {
        "colab": {
          "base_uri": "https://localhost:8080/"
        },
        "id": "xYPlPLYAByX0",
        "outputId": "41e4fe84-f5ca-4bba-df43-e797163f5a0e"
      },
      "outputs": [
        {
          "data": {
            "text/plain": [
              "array(['food', 'no-frills', 'wifi'], dtype=object)"
            ]
          },
          "execution_count": 42,
          "metadata": {},
          "output_type": "execute_result"
        }
      ],
      "source": [
        "mode_choice_car_df.service_rail.unique()"
      ]
    },
    {
      "cell_type": "markdown",
      "metadata": {
        "id": "B78canKCB2_i"
      },
      "source": [
        "Get an overview about the statistics of the numerical columns:"
      ]
    },
    {
      "cell_type": "code",
      "execution_count": 43,
      "metadata": {
        "colab": {
          "base_uri": "https://localhost:8080/",
          "height": 300
        },
        "id": "dqd3oJ9Epqw7",
        "outputId": "8d7a467c-09d1-42fb-9519-76865e927845"
      },
      "outputs": [
        {
          "data": {
            "text/html": [
              "<div>\n",
              "<style scoped>\n",
              "    .dataframe tbody tr th:only-of-type {\n",
              "        vertical-align: middle;\n",
              "    }\n",
              "\n",
              "    .dataframe tbody tr th {\n",
              "        vertical-align: top;\n",
              "    }\n",
              "\n",
              "    .dataframe thead th {\n",
              "        text-align: right;\n",
              "    }\n",
              "</style>\n",
              "<table border=\"1\" class=\"dataframe\">\n",
              "  <thead>\n",
              "    <tr style=\"text-align: right;\">\n",
              "      <th></th>\n",
              "      <th>time_car</th>\n",
              "      <th>cost_car</th>\n",
              "      <th>time_rail</th>\n",
              "      <th>cost_rail</th>\n",
              "      <th>access_rail</th>\n",
              "    </tr>\n",
              "  </thead>\n",
              "  <tbody>\n",
              "    <tr>\n",
              "      <th>count</th>\n",
              "      <td>2266.000000</td>\n",
              "      <td>2266.000000</td>\n",
              "      <td>2266.000000</td>\n",
              "      <td>2266.000000</td>\n",
              "      <td>2266.000000</td>\n",
              "    </tr>\n",
              "    <tr>\n",
              "      <th>mean</th>\n",
              "      <td>310.505296</td>\n",
              "      <td>40.083848</td>\n",
              "      <td>143.175199</td>\n",
              "      <td>53.415711</td>\n",
              "      <td>15.037511</td>\n",
              "    </tr>\n",
              "    <tr>\n",
              "      <th>std</th>\n",
              "      <td>49.424710</td>\n",
              "      <td>6.988924</td>\n",
              "      <td>18.236603</td>\n",
              "      <td>14.285212</td>\n",
              "      <td>7.127716</td>\n",
              "    </tr>\n",
              "    <tr>\n",
              "      <th>min</th>\n",
              "      <td>250.000000</td>\n",
              "      <td>30.000000</td>\n",
              "      <td>120.000000</td>\n",
              "      <td>35.000000</td>\n",
              "      <td>5.000000</td>\n",
              "    </tr>\n",
              "    <tr>\n",
              "      <th>25%</th>\n",
              "      <td>275.000000</td>\n",
              "      <td>35.000000</td>\n",
              "      <td>130.000000</td>\n",
              "      <td>45.000000</td>\n",
              "      <td>10.000000</td>\n",
              "    </tr>\n",
              "    <tr>\n",
              "      <th>50%</th>\n",
              "      <td>300.000000</td>\n",
              "      <td>40.000000</td>\n",
              "      <td>140.000000</td>\n",
              "      <td>55.000000</td>\n",
              "      <td>15.000000</td>\n",
              "    </tr>\n",
              "    <tr>\n",
              "      <th>75%</th>\n",
              "      <td>345.000000</td>\n",
              "      <td>45.000000</td>\n",
              "      <td>155.000000</td>\n",
              "      <td>65.000000</td>\n",
              "      <td>20.000000</td>\n",
              "    </tr>\n",
              "    <tr>\n",
              "      <th>max</th>\n",
              "      <td>390.000000</td>\n",
              "      <td>50.000000</td>\n",
              "      <td>170.000000</td>\n",
              "      <td>75.000000</td>\n",
              "      <td>25.000000</td>\n",
              "    </tr>\n",
              "  </tbody>\n",
              "</table>\n",
              "</div>"
            ],
            "text/plain": [
              "          time_car     cost_car    time_rail    cost_rail  access_rail\n",
              "count  2266.000000  2266.000000  2266.000000  2266.000000  2266.000000\n",
              "mean    310.505296    40.083848   143.175199    53.415711    15.037511\n",
              "std      49.424710     6.988924    18.236603    14.285212     7.127716\n",
              "min     250.000000    30.000000   120.000000    35.000000     5.000000\n",
              "25%     275.000000    35.000000   130.000000    45.000000    10.000000\n",
              "50%     300.000000    40.000000   140.000000    55.000000    15.000000\n",
              "75%     345.000000    45.000000   155.000000    65.000000    20.000000\n",
              "max     390.000000    50.000000   170.000000    75.000000    25.000000"
            ]
          },
          "execution_count": 43,
          "metadata": {},
          "output_type": "execute_result"
        }
      ],
      "source": [
        "mode_choice_car_df.describe()"
      ]
    },
    {
      "cell_type": "markdown",
      "metadata": {
        "id": "VdOghmNYplJe"
      },
      "source": [
        "### Train-Test Split\n",
        "\n",
        "We divide the data first into its explaining variables/features (X) and the variable that we want to predict/target (y).\n",
        "\n",
        "Afterwards we create a train and test set with a 80%/20% split."
      ]
    },
    {
      "cell_type": "code",
      "execution_count": 44,
      "metadata": {
        "id": "iT2X2dEbbzhA"
      },
      "outputs": [],
      "source": [
        "from sklearn.model_selection import train_test_split\n",
        "\n",
        "X = mode_choice_car_df.drop(columns=[\"choice\"])\n",
        "y = mode_choice_car_df[\"choice\"]\n",
        "\n",
        "X_train, X_test, y_train, y_test = train_test_split(X, y, test_size=0.2, random_state=0)"
      ]
    },
    {
      "cell_type": "code",
      "execution_count": 45,
      "metadata": {
        "colab": {
          "base_uri": "https://localhost:8080/",
          "height": 206
        },
        "id": "rbDd-RyPCuCm",
        "outputId": "5039cc61-68e1-45b8-921a-7fe370a72f50"
      },
      "outputs": [
        {
          "data": {
            "text/html": [
              "<div>\n",
              "<style scoped>\n",
              "    .dataframe tbody tr th:only-of-type {\n",
              "        vertical-align: middle;\n",
              "    }\n",
              "\n",
              "    .dataframe tbody tr th {\n",
              "        vertical-align: top;\n",
              "    }\n",
              "\n",
              "    .dataframe thead th {\n",
              "        text-align: right;\n",
              "    }\n",
              "</style>\n",
              "<table border=\"1\" class=\"dataframe\">\n",
              "  <thead>\n",
              "    <tr style=\"text-align: right;\">\n",
              "      <th></th>\n",
              "      <th>time_car</th>\n",
              "      <th>cost_car</th>\n",
              "      <th>time_rail</th>\n",
              "      <th>cost_rail</th>\n",
              "      <th>access_rail</th>\n",
              "      <th>service_rail</th>\n",
              "    </tr>\n",
              "  </thead>\n",
              "  <tbody>\n",
              "    <tr>\n",
              "      <th>1150</th>\n",
              "      <td>250</td>\n",
              "      <td>45</td>\n",
              "      <td>170</td>\n",
              "      <td>35</td>\n",
              "      <td>15</td>\n",
              "      <td>food</td>\n",
              "    </tr>\n",
              "    <tr>\n",
              "      <th>1538</th>\n",
              "      <td>275</td>\n",
              "      <td>35</td>\n",
              "      <td>140</td>\n",
              "      <td>65</td>\n",
              "      <td>20</td>\n",
              "      <td>food</td>\n",
              "    </tr>\n",
              "    <tr>\n",
              "      <th>1254</th>\n",
              "      <td>300</td>\n",
              "      <td>40</td>\n",
              "      <td>140</td>\n",
              "      <td>55</td>\n",
              "      <td>25</td>\n",
              "      <td>food</td>\n",
              "    </tr>\n",
              "    <tr>\n",
              "      <th>1843</th>\n",
              "      <td>345</td>\n",
              "      <td>45</td>\n",
              "      <td>130</td>\n",
              "      <td>45</td>\n",
              "      <td>10</td>\n",
              "      <td>no-frills</td>\n",
              "    </tr>\n",
              "    <tr>\n",
              "      <th>977</th>\n",
              "      <td>345</td>\n",
              "      <td>35</td>\n",
              "      <td>140</td>\n",
              "      <td>45</td>\n",
              "      <td>25</td>\n",
              "      <td>food</td>\n",
              "    </tr>\n",
              "  </tbody>\n",
              "</table>\n",
              "</div>"
            ],
            "text/plain": [
              "      time_car  cost_car  time_rail  cost_rail  access_rail service_rail\n",
              "1150       250        45        170         35           15         food\n",
              "1538       275        35        140         65           20         food\n",
              "1254       300        40        140         55           25         food\n",
              "1843       345        45        130         45           10    no-frills\n",
              "977        345        35        140         45           25         food"
            ]
          },
          "execution_count": 45,
          "metadata": {},
          "output_type": "execute_result"
        }
      ],
      "source": [
        "X_train.head()"
      ]
    },
    {
      "cell_type": "markdown",
      "metadata": {
        "id": "2oxjUFBZpVaq"
      },
      "source": [
        "### Scaling and Encoding the features\n",
        "\n",
        "We remember: especially for distance calculations we need to scale the features to ensure equal influence.\n",
        "\n",
        "Furthermore, we have a categorical variable in our dataset: *service_rail*. We need to treat this variable by an encoding technique before using it. In this case we have decided for one-hot encoding.\n"
      ]
    },
    {
      "cell_type": "code",
      "execution_count": 46,
      "metadata": {
        "colab": {
          "base_uri": "https://localhost:8080/"
        },
        "id": "f3ZwFGzjCDhz",
        "outputId": "8bb55c5f-08ea-4998-e871-79bffacb9b49"
      },
      "outputs": [],
      "source": [
        "from sklearn.preprocessing import StandardScaler, OneHotEncoder\n",
        "\n",
        "# Define which columns should be encoded vs scaled\n",
        "columns_to_encode = [\"service_rail\"]\n",
        "columns_to_scale  = [\"time_car\", \"cost_car\", \"time_rail\", \"cost_rail\", \"access_rail\"]\n",
        "\n",
        "# Instantiate encoder/scaler\n",
        "scaler = StandardScaler()\n",
        "ohe = OneHotEncoder(sparse_output=False)\n",
        "\n",
        "# Scale and Encode Separate Columns\n",
        "X_train_scaled_columns  = scaler.fit_transform(X_train[columns_to_scale])\n",
        "X_train_encoded_columns = ohe.fit_transform(X_train[columns_to_encode])\n",
        "\n",
        "X_test_scaled_columns  = scaler.transform(X_test[columns_to_scale])\n",
        "X_test_encoded_columns = ohe.transform(X_test[columns_to_encode])\n",
        "\n",
        "# Concatenate (Column-Bind) Processed Columns Back Together\n",
        "X_train_processed = np.concatenate([X_train_scaled_columns, X_train_encoded_columns], axis=1)\n",
        "X_test_processed = np.concatenate([X_test_scaled_columns, X_test_encoded_columns], axis=1)"
      ]
    },
    {
      "cell_type": "markdown",
      "metadata": {
        "id": "1t3aWEJFit7B"
      },
      "source": [
        "## Task 1: Build your own KNN classifier\n",
        "\n",
        "Your task is now to implement the KNN algorithm yourself. Return the classification of the unclassified point (*X_unclassified*).\n",
        "\n",
        "Python methods that might be helpful:\n",
        "- **for-loop**: ```for value in mylist:```\n",
        "- **Append values to a list:** ```my_list.append(value)```\n",
        "- **Get the indices of the n smallest values of the list mylist**: ```np.argsort(my_list)[:n]```\n",
        "- **Gets the values from a pandas series at the location of the given indices**: ```y_train.iloc[indices]```\n",
        "- **Get the most frequent element in a list**: ```mode(mylist)```"
      ]
    },
    {
      "cell_type": "markdown",
      "metadata": {
        "id": "ZHBRIc74Sfe9"
      },
      "source": [
        "### Implement Distance Function\n",
        "\n",
        "The euclidean distance function allows to determine the distance between two points."
      ]
    },
    {
      "cell_type": "code",
      "execution_count": 47,
      "metadata": {
        "id": "_jtyTSf6SbwQ"
      },
      "outputs": [],
      "source": [
        "def euclidean_distance(point1, point2):\n",
        "  # go through the features of point1 and 2\n",
        "  current_sum = 0\n",
        "  for i in range(0, len(point1)):\n",
        "    # calculate their squared difference and sum it\n",
        "    current_sum += (point1[i]-point2[i])**2\n",
        "\n",
        "  # calculate the square root from the summed distances\n",
        "  distance = np.sqrt(current_sum)\n",
        "\n",
        "  return distance"
      ]
    },
    {
      "cell_type": "markdown",
      "metadata": {
        "id": "-9Mt8yEksSYa"
      },
      "source": [
        "### Code of your own KNN classifier:"
      ]
    },
    {
      "cell_type": "code",
      "execution_count": 48,
      "metadata": {
        "id": "o2Kks1rmiv0K"
      },
      "outputs": [],
      "source": [
        "def custom_knn(X_train, y_train, X_unclassified, k):\n",
        "\n",
        "  #################################################\n",
        "  # Your code                                     #\n",
        "  #################################################\n",
        "\n",
        "  # change that to the actual classification\n",
        "  classification = None\n",
        "  return classification"
      ]
    },
    {
      "cell_type": "markdown",
      "metadata": {
        "id": "sB-U4w9Zq35d"
      },
      "source": [
        "### Make a prediction"
      ]
    },
    {
      "cell_type": "code",
      "execution_count": 49,
      "metadata": {
        "id": "hrQD7LTIbTSX"
      },
      "outputs": [],
      "source": [
        "custom_knn(X_train_processed, y_train, X_test_processed[0], 5)"
      ]
    },
    {
      "cell_type": "markdown",
      "metadata": {
        "id": "TWecmtnKw2V2"
      },
      "source": [
        "### Compare with the true class"
      ]
    },
    {
      "cell_type": "code",
      "execution_count": 50,
      "metadata": {
        "id": "J5wEborXc7vd"
      },
      "outputs": [
        {
          "data": {
            "text/plain": [
              "'rail'"
            ]
          },
          "execution_count": 50,
          "metadata": {},
          "output_type": "execute_result"
        }
      ],
      "source": [
        "y_test.iloc[0]"
      ]
    },
    {
      "cell_type": "markdown",
      "metadata": {
        "id": "nQYuQ4zax4KE"
      },
      "source": [
        "## Task 2: Understand Classification Evaluation Metrics\n",
        "\n",
        " - **Accuracy**: The ratio of correctly predicted instances to the total instances.\n",
        "   - Formula: `Accuracy = (TP + TN) / (TP + TN + FP + FN)`\n",
        "\n",
        " - **Precision**: The ratio of correctly predicted positive observations to the total predicted positives.\n",
        "   - Formula: `Precision = TP / (TP + FP)`\n",
        "\n",
        " - **Recall (Sensitivity/True Positive Rate)**: The ratio of correctly predicted positive observations to all observations in the actual class.\n",
        "   - Formula: `Recall = TP / (TP + FN)`\n",
        "\n",
        "Let's calculate these metrics using an example scenario.\n",
        "\n",
        "**Scenario:**\n",
        "- Imagine you are building a model to predict mode choice with a dataset where only 1% of the observations used the mode car (i.e., imbalanced data).\n",
        "- Assume you have 10,000 observations, where 100 are mode car (positive class) and 9,900 are mode rail (negative class).\n",
        "\n",
        "### Task 2.1: Initial Model Evaluation\n",
        "Consider a model that predicts all transactions as rail (negative class).\n",
        "\n",
        "- a) Calculate the following metrics: Accuracy, Precision, Recall\n",
        "- b) What can you observe?\n"
      ]
    },
    {
      "cell_type": "markdown",
      "metadata": {
        "id": "j9Sf1E0kIFSJ"
      },
      "source": [
        "## Task 3: ROC Curve\n",
        "\n",
        "In this task the goal is to understand the ROC curve and how it can be used to identify the optimal threshold for a classification task with logistic regression."
      ]
    },
    {
      "cell_type": "markdown",
      "metadata": {
        "id": "KPqtk0IsLMNC"
      },
      "source": [
        "### Fit Logistic Regression Model\n",
        "First we are fitting a logistic regression model. The model internally predicts a probability, e.g., for the mode choice being car in our example.\n",
        "\n",
        "It is important to find the optimal threshold where we \"trust\" the model.\n",
        "\n",
        "Is 50% probability enough that we assign the label \"car\" to an observation? Or is maybe a threshold of 70% necessary to get a good result?"
      ]
    },
    {
      "cell_type": "code",
      "execution_count": 51,
      "metadata": {
        "colab": {
          "base_uri": "https://localhost:8080/",
          "height": 75
        },
        "id": "Wg1Vj_1MLIEe",
        "outputId": "fc6aecea-996a-4281-8c70-ccfb782d35de"
      },
      "outputs": [
        {
          "data": {
            "text/html": [
              "<style>#sk-container-id-3 {\n",
              "  /* Definition of color scheme common for light and dark mode */\n",
              "  --sklearn-color-text: black;\n",
              "  --sklearn-color-line: gray;\n",
              "  /* Definition of color scheme for unfitted estimators */\n",
              "  --sklearn-color-unfitted-level-0: #fff5e6;\n",
              "  --sklearn-color-unfitted-level-1: #f6e4d2;\n",
              "  --sklearn-color-unfitted-level-2: #ffe0b3;\n",
              "  --sklearn-color-unfitted-level-3: chocolate;\n",
              "  /* Definition of color scheme for fitted estimators */\n",
              "  --sklearn-color-fitted-level-0: #f0f8ff;\n",
              "  --sklearn-color-fitted-level-1: #d4ebff;\n",
              "  --sklearn-color-fitted-level-2: #b3dbfd;\n",
              "  --sklearn-color-fitted-level-3: cornflowerblue;\n",
              "\n",
              "  /* Specific color for light theme */\n",
              "  --sklearn-color-text-on-default-background: var(--sg-text-color, var(--theme-code-foreground, var(--jp-content-font-color1, black)));\n",
              "  --sklearn-color-background: var(--sg-background-color, var(--theme-background, var(--jp-layout-color0, white)));\n",
              "  --sklearn-color-border-box: var(--sg-text-color, var(--theme-code-foreground, var(--jp-content-font-color1, black)));\n",
              "  --sklearn-color-icon: #696969;\n",
              "\n",
              "  @media (prefers-color-scheme: dark) {\n",
              "    /* Redefinition of color scheme for dark theme */\n",
              "    --sklearn-color-text-on-default-background: var(--sg-text-color, var(--theme-code-foreground, var(--jp-content-font-color1, white)));\n",
              "    --sklearn-color-background: var(--sg-background-color, var(--theme-background, var(--jp-layout-color0, #111)));\n",
              "    --sklearn-color-border-box: var(--sg-text-color, var(--theme-code-foreground, var(--jp-content-font-color1, white)));\n",
              "    --sklearn-color-icon: #878787;\n",
              "  }\n",
              "}\n",
              "\n",
              "#sk-container-id-3 {\n",
              "  color: var(--sklearn-color-text);\n",
              "}\n",
              "\n",
              "#sk-container-id-3 pre {\n",
              "  padding: 0;\n",
              "}\n",
              "\n",
              "#sk-container-id-3 input.sk-hidden--visually {\n",
              "  border: 0;\n",
              "  clip: rect(1px 1px 1px 1px);\n",
              "  clip: rect(1px, 1px, 1px, 1px);\n",
              "  height: 1px;\n",
              "  margin: -1px;\n",
              "  overflow: hidden;\n",
              "  padding: 0;\n",
              "  position: absolute;\n",
              "  width: 1px;\n",
              "}\n",
              "\n",
              "#sk-container-id-3 div.sk-dashed-wrapped {\n",
              "  border: 1px dashed var(--sklearn-color-line);\n",
              "  margin: 0 0.4em 0.5em 0.4em;\n",
              "  box-sizing: border-box;\n",
              "  padding-bottom: 0.4em;\n",
              "  background-color: var(--sklearn-color-background);\n",
              "}\n",
              "\n",
              "#sk-container-id-3 div.sk-container {\n",
              "  /* jupyter's `normalize.less` sets `[hidden] { display: none; }`\n",
              "     but bootstrap.min.css set `[hidden] { display: none !important; }`\n",
              "     so we also need the `!important` here to be able to override the\n",
              "     default hidden behavior on the sphinx rendered scikit-learn.org.\n",
              "     See: https://github.com/scikit-learn/scikit-learn/issues/21755 */\n",
              "  display: inline-block !important;\n",
              "  position: relative;\n",
              "}\n",
              "\n",
              "#sk-container-id-3 div.sk-text-repr-fallback {\n",
              "  display: none;\n",
              "}\n",
              "\n",
              "div.sk-parallel-item,\n",
              "div.sk-serial,\n",
              "div.sk-item {\n",
              "  /* draw centered vertical line to link estimators */\n",
              "  background-image: linear-gradient(var(--sklearn-color-text-on-default-background), var(--sklearn-color-text-on-default-background));\n",
              "  background-size: 2px 100%;\n",
              "  background-repeat: no-repeat;\n",
              "  background-position: center center;\n",
              "}\n",
              "\n",
              "/* Parallel-specific style estimator block */\n",
              "\n",
              "#sk-container-id-3 div.sk-parallel-item::after {\n",
              "  content: \"\";\n",
              "  width: 100%;\n",
              "  border-bottom: 2px solid var(--sklearn-color-text-on-default-background);\n",
              "  flex-grow: 1;\n",
              "}\n",
              "\n",
              "#sk-container-id-3 div.sk-parallel {\n",
              "  display: flex;\n",
              "  align-items: stretch;\n",
              "  justify-content: center;\n",
              "  background-color: var(--sklearn-color-background);\n",
              "  position: relative;\n",
              "}\n",
              "\n",
              "#sk-container-id-3 div.sk-parallel-item {\n",
              "  display: flex;\n",
              "  flex-direction: column;\n",
              "}\n",
              "\n",
              "#sk-container-id-3 div.sk-parallel-item:first-child::after {\n",
              "  align-self: flex-end;\n",
              "  width: 50%;\n",
              "}\n",
              "\n",
              "#sk-container-id-3 div.sk-parallel-item:last-child::after {\n",
              "  align-self: flex-start;\n",
              "  width: 50%;\n",
              "}\n",
              "\n",
              "#sk-container-id-3 div.sk-parallel-item:only-child::after {\n",
              "  width: 0;\n",
              "}\n",
              "\n",
              "/* Serial-specific style estimator block */\n",
              "\n",
              "#sk-container-id-3 div.sk-serial {\n",
              "  display: flex;\n",
              "  flex-direction: column;\n",
              "  align-items: center;\n",
              "  background-color: var(--sklearn-color-background);\n",
              "  padding-right: 1em;\n",
              "  padding-left: 1em;\n",
              "}\n",
              "\n",
              "\n",
              "/* Toggleable style: style used for estimator/Pipeline/ColumnTransformer box that is\n",
              "clickable and can be expanded/collapsed.\n",
              "- Pipeline and ColumnTransformer use this feature and define the default style\n",
              "- Estimators will overwrite some part of the style using the `sk-estimator` class\n",
              "*/\n",
              "\n",
              "/* Pipeline and ColumnTransformer style (default) */\n",
              "\n",
              "#sk-container-id-3 div.sk-toggleable {\n",
              "  /* Default theme specific background. It is overwritten whether we have a\n",
              "  specific estimator or a Pipeline/ColumnTransformer */\n",
              "  background-color: var(--sklearn-color-background);\n",
              "}\n",
              "\n",
              "/* Toggleable label */\n",
              "#sk-container-id-3 label.sk-toggleable__label {\n",
              "  cursor: pointer;\n",
              "  display: block;\n",
              "  width: 100%;\n",
              "  margin-bottom: 0;\n",
              "  padding: 0.5em;\n",
              "  box-sizing: border-box;\n",
              "  text-align: center;\n",
              "}\n",
              "\n",
              "#sk-container-id-3 label.sk-toggleable__label-arrow:before {\n",
              "  /* Arrow on the left of the label */\n",
              "  content: \"▸\";\n",
              "  float: left;\n",
              "  margin-right: 0.25em;\n",
              "  color: var(--sklearn-color-icon);\n",
              "}\n",
              "\n",
              "#sk-container-id-3 label.sk-toggleable__label-arrow:hover:before {\n",
              "  color: var(--sklearn-color-text);\n",
              "}\n",
              "\n",
              "/* Toggleable content - dropdown */\n",
              "\n",
              "#sk-container-id-3 div.sk-toggleable__content {\n",
              "  max-height: 0;\n",
              "  max-width: 0;\n",
              "  overflow: hidden;\n",
              "  text-align: left;\n",
              "  /* unfitted */\n",
              "  background-color: var(--sklearn-color-unfitted-level-0);\n",
              "}\n",
              "\n",
              "#sk-container-id-3 div.sk-toggleable__content.fitted {\n",
              "  /* fitted */\n",
              "  background-color: var(--sklearn-color-fitted-level-0);\n",
              "}\n",
              "\n",
              "#sk-container-id-3 div.sk-toggleable__content pre {\n",
              "  margin: 0.2em;\n",
              "  border-radius: 0.25em;\n",
              "  color: var(--sklearn-color-text);\n",
              "  /* unfitted */\n",
              "  background-color: var(--sklearn-color-unfitted-level-0);\n",
              "}\n",
              "\n",
              "#sk-container-id-3 div.sk-toggleable__content.fitted pre {\n",
              "  /* unfitted */\n",
              "  background-color: var(--sklearn-color-fitted-level-0);\n",
              "}\n",
              "\n",
              "#sk-container-id-3 input.sk-toggleable__control:checked~div.sk-toggleable__content {\n",
              "  /* Expand drop-down */\n",
              "  max-height: 200px;\n",
              "  max-width: 100%;\n",
              "  overflow: auto;\n",
              "}\n",
              "\n",
              "#sk-container-id-3 input.sk-toggleable__control:checked~label.sk-toggleable__label-arrow:before {\n",
              "  content: \"▾\";\n",
              "}\n",
              "\n",
              "/* Pipeline/ColumnTransformer-specific style */\n",
              "\n",
              "#sk-container-id-3 div.sk-label input.sk-toggleable__control:checked~label.sk-toggleable__label {\n",
              "  color: var(--sklearn-color-text);\n",
              "  background-color: var(--sklearn-color-unfitted-level-2);\n",
              "}\n",
              "\n",
              "#sk-container-id-3 div.sk-label.fitted input.sk-toggleable__control:checked~label.sk-toggleable__label {\n",
              "  background-color: var(--sklearn-color-fitted-level-2);\n",
              "}\n",
              "\n",
              "/* Estimator-specific style */\n",
              "\n",
              "/* Colorize estimator box */\n",
              "#sk-container-id-3 div.sk-estimator input.sk-toggleable__control:checked~label.sk-toggleable__label {\n",
              "  /* unfitted */\n",
              "  background-color: var(--sklearn-color-unfitted-level-2);\n",
              "}\n",
              "\n",
              "#sk-container-id-3 div.sk-estimator.fitted input.sk-toggleable__control:checked~label.sk-toggleable__label {\n",
              "  /* fitted */\n",
              "  background-color: var(--sklearn-color-fitted-level-2);\n",
              "}\n",
              "\n",
              "#sk-container-id-3 div.sk-label label.sk-toggleable__label,\n",
              "#sk-container-id-3 div.sk-label label {\n",
              "  /* The background is the default theme color */\n",
              "  color: var(--sklearn-color-text-on-default-background);\n",
              "}\n",
              "\n",
              "/* On hover, darken the color of the background */\n",
              "#sk-container-id-3 div.sk-label:hover label.sk-toggleable__label {\n",
              "  color: var(--sklearn-color-text);\n",
              "  background-color: var(--sklearn-color-unfitted-level-2);\n",
              "}\n",
              "\n",
              "/* Label box, darken color on hover, fitted */\n",
              "#sk-container-id-3 div.sk-label.fitted:hover label.sk-toggleable__label.fitted {\n",
              "  color: var(--sklearn-color-text);\n",
              "  background-color: var(--sklearn-color-fitted-level-2);\n",
              "}\n",
              "\n",
              "/* Estimator label */\n",
              "\n",
              "#sk-container-id-3 div.sk-label label {\n",
              "  font-family: monospace;\n",
              "  font-weight: bold;\n",
              "  display: inline-block;\n",
              "  line-height: 1.2em;\n",
              "}\n",
              "\n",
              "#sk-container-id-3 div.sk-label-container {\n",
              "  text-align: center;\n",
              "}\n",
              "\n",
              "/* Estimator-specific */\n",
              "#sk-container-id-3 div.sk-estimator {\n",
              "  font-family: monospace;\n",
              "  border: 1px dotted var(--sklearn-color-border-box);\n",
              "  border-radius: 0.25em;\n",
              "  box-sizing: border-box;\n",
              "  margin-bottom: 0.5em;\n",
              "  /* unfitted */\n",
              "  background-color: var(--sklearn-color-unfitted-level-0);\n",
              "}\n",
              "\n",
              "#sk-container-id-3 div.sk-estimator.fitted {\n",
              "  /* fitted */\n",
              "  background-color: var(--sklearn-color-fitted-level-0);\n",
              "}\n",
              "\n",
              "/* on hover */\n",
              "#sk-container-id-3 div.sk-estimator:hover {\n",
              "  /* unfitted */\n",
              "  background-color: var(--sklearn-color-unfitted-level-2);\n",
              "}\n",
              "\n",
              "#sk-container-id-3 div.sk-estimator.fitted:hover {\n",
              "  /* fitted */\n",
              "  background-color: var(--sklearn-color-fitted-level-2);\n",
              "}\n",
              "\n",
              "/* Specification for estimator info (e.g. \"i\" and \"?\") */\n",
              "\n",
              "/* Common style for \"i\" and \"?\" */\n",
              "\n",
              ".sk-estimator-doc-link,\n",
              "a:link.sk-estimator-doc-link,\n",
              "a:visited.sk-estimator-doc-link {\n",
              "  float: right;\n",
              "  font-size: smaller;\n",
              "  line-height: 1em;\n",
              "  font-family: monospace;\n",
              "  background-color: var(--sklearn-color-background);\n",
              "  border-radius: 1em;\n",
              "  height: 1em;\n",
              "  width: 1em;\n",
              "  text-decoration: none !important;\n",
              "  margin-left: 1ex;\n",
              "  /* unfitted */\n",
              "  border: var(--sklearn-color-unfitted-level-1) 1pt solid;\n",
              "  color: var(--sklearn-color-unfitted-level-1);\n",
              "}\n",
              "\n",
              ".sk-estimator-doc-link.fitted,\n",
              "a:link.sk-estimator-doc-link.fitted,\n",
              "a:visited.sk-estimator-doc-link.fitted {\n",
              "  /* fitted */\n",
              "  border: var(--sklearn-color-fitted-level-1) 1pt solid;\n",
              "  color: var(--sklearn-color-fitted-level-1);\n",
              "}\n",
              "\n",
              "/* On hover */\n",
              "div.sk-estimator:hover .sk-estimator-doc-link:hover,\n",
              ".sk-estimator-doc-link:hover,\n",
              "div.sk-label-container:hover .sk-estimator-doc-link:hover,\n",
              ".sk-estimator-doc-link:hover {\n",
              "  /* unfitted */\n",
              "  background-color: var(--sklearn-color-unfitted-level-3);\n",
              "  color: var(--sklearn-color-background);\n",
              "  text-decoration: none;\n",
              "}\n",
              "\n",
              "div.sk-estimator.fitted:hover .sk-estimator-doc-link.fitted:hover,\n",
              ".sk-estimator-doc-link.fitted:hover,\n",
              "div.sk-label-container:hover .sk-estimator-doc-link.fitted:hover,\n",
              ".sk-estimator-doc-link.fitted:hover {\n",
              "  /* fitted */\n",
              "  background-color: var(--sklearn-color-fitted-level-3);\n",
              "  color: var(--sklearn-color-background);\n",
              "  text-decoration: none;\n",
              "}\n",
              "\n",
              "/* Span, style for the box shown on hovering the info icon */\n",
              ".sk-estimator-doc-link span {\n",
              "  display: none;\n",
              "  z-index: 9999;\n",
              "  position: relative;\n",
              "  font-weight: normal;\n",
              "  right: .2ex;\n",
              "  padding: .5ex;\n",
              "  margin: .5ex;\n",
              "  width: min-content;\n",
              "  min-width: 20ex;\n",
              "  max-width: 50ex;\n",
              "  color: var(--sklearn-color-text);\n",
              "  box-shadow: 2pt 2pt 4pt #999;\n",
              "  /* unfitted */\n",
              "  background: var(--sklearn-color-unfitted-level-0);\n",
              "  border: .5pt solid var(--sklearn-color-unfitted-level-3);\n",
              "}\n",
              "\n",
              ".sk-estimator-doc-link.fitted span {\n",
              "  /* fitted */\n",
              "  background: var(--sklearn-color-fitted-level-0);\n",
              "  border: var(--sklearn-color-fitted-level-3);\n",
              "}\n",
              "\n",
              ".sk-estimator-doc-link:hover span {\n",
              "  display: block;\n",
              "}\n",
              "\n",
              "/* \"?\"-specific style due to the `<a>` HTML tag */\n",
              "\n",
              "#sk-container-id-3 a.estimator_doc_link {\n",
              "  float: right;\n",
              "  font-size: 1rem;\n",
              "  line-height: 1em;\n",
              "  font-family: monospace;\n",
              "  background-color: var(--sklearn-color-background);\n",
              "  border-radius: 1rem;\n",
              "  height: 1rem;\n",
              "  width: 1rem;\n",
              "  text-decoration: none;\n",
              "  /* unfitted */\n",
              "  color: var(--sklearn-color-unfitted-level-1);\n",
              "  border: var(--sklearn-color-unfitted-level-1) 1pt solid;\n",
              "}\n",
              "\n",
              "#sk-container-id-3 a.estimator_doc_link.fitted {\n",
              "  /* fitted */\n",
              "  border: var(--sklearn-color-fitted-level-1) 1pt solid;\n",
              "  color: var(--sklearn-color-fitted-level-1);\n",
              "}\n",
              "\n",
              "/* On hover */\n",
              "#sk-container-id-3 a.estimator_doc_link:hover {\n",
              "  /* unfitted */\n",
              "  background-color: var(--sklearn-color-unfitted-level-3);\n",
              "  color: var(--sklearn-color-background);\n",
              "  text-decoration: none;\n",
              "}\n",
              "\n",
              "#sk-container-id-3 a.estimator_doc_link.fitted:hover {\n",
              "  /* fitted */\n",
              "  background-color: var(--sklearn-color-fitted-level-3);\n",
              "}\n",
              "</style><div id=\"sk-container-id-3\" class=\"sk-top-container\"><div class=\"sk-text-repr-fallback\"><pre>LogisticRegression()</pre><b>In a Jupyter environment, please rerun this cell to show the HTML representation or trust the notebook. <br />On GitHub, the HTML representation is unable to render, please try loading this page with nbviewer.org.</b></div><div class=\"sk-container\" hidden><div class=\"sk-item\"><div class=\"sk-estimator fitted sk-toggleable\"><input class=\"sk-toggleable__control sk-hidden--visually\" id=\"sk-estimator-id-3\" type=\"checkbox\" checked><label for=\"sk-estimator-id-3\" class=\"sk-toggleable__label fitted sk-toggleable__label-arrow fitted\">&nbsp;&nbsp;LogisticRegression<a class=\"sk-estimator-doc-link fitted\" rel=\"noreferrer\" target=\"_blank\" href=\"https://scikit-learn.org/1.5/modules/generated/sklearn.linear_model.LogisticRegression.html\">?<span>Documentation for LogisticRegression</span></a><span class=\"sk-estimator-doc-link fitted\">i<span>Fitted</span></span></label><div class=\"sk-toggleable__content fitted\"><pre>LogisticRegression()</pre></div> </div></div></div></div>"
            ],
            "text/plain": [
              "LogisticRegression()"
            ]
          },
          "execution_count": 51,
          "metadata": {},
          "output_type": "execute_result"
        }
      ],
      "source": [
        "from sklearn.model_selection import train_test_split\n",
        "from sklearn.linear_model import LogisticRegression\n",
        "\n",
        "y_train = y_train.map({'car': 1, 'rail': 0})\n",
        "y_test = y_test.map({'car': 1, 'rail': 0})\n",
        "\n",
        "# Train a logistic regression model\n",
        "model = LogisticRegression()\n",
        "model.fit(X_train_processed, y_train)"
      ]
    },
    {
      "cell_type": "markdown",
      "metadata": {
        "id": "n1fXI2MJRBi2"
      },
      "source": [
        "### Task 3.1: Interpret the ROC Curve\n",
        "\n",
        "One way to find the optimal parameter set for such a model in a binary classification setting is the Receiver Operating Characteristic (ROC) curve (see below).\n",
        "\n",
        "Now try to interprete with the lecture slides what this curve means and what information we can derive from it.\n",
        "\n",
        "- a) How would the optimal ROC curve look like?\n",
        "- b) How does the ROC curve supports us in finding the optimal threshold parameter?\n",
        "- c) Find the approximate FPR and TPR of the optimal threshold given the ROC curve below."
      ]
    },
    {
      "cell_type": "markdown",
      "metadata": {},
      "source": [
        "Remember:\n",
        "True Positive Rate (TPR) = TP / (TP + FN)\n",
        "- Describes the probability of the model classifying a sample as positive, which is also truly from the positive class.\n",
        "\n",
        "False Positive Rate (FPR) = FP / (FP + TN) \n",
        "- Describes the probability of the model classifying a sample wrongly as positive, which is truly from the negative class."
      ]
    },
    {
      "cell_type": "code",
      "execution_count": 52,
      "metadata": {
        "colab": {
          "base_uri": "https://localhost:8080/",
          "height": 564
        },
        "id": "uRRqB8Z8w7IV",
        "outputId": "87278dd2-314d-4a90-e83d-ce764bcbf96e"
      },
      "outputs": [
        {
          "data": {
            "image/png": "[encoded data removed]",
            "text/plain": [
              "<Figure size 1000x600 with 1 Axes>"
            ]
          },
          "metadata": {},
          "output_type": "display_data"
        }
      ],
      "source": [
        "import matplotlib.pyplot as plt\n",
        "from sklearn.metrics import roc_curve, roc_auc_score\n",
        "\n",
        "# Predict probabilities for the test set\n",
        "y_probs = model.predict_proba(X_test_processed)[:, 1]\n",
        "\n",
        "# ## Part 2: Plotting the ROC Curve\n",
        "fpr, tpr, thresholds = roc_curve(y_test, y_probs)\n",
        "roc_auc = roc_auc_score(y_test, y_probs)\n",
        "\n",
        "plt.figure(figsize=(10, 6))\n",
        "plt.plot(fpr, tpr, label=f'Logistic Regression (AUC = {roc_auc:.2f})')\n",
        "plt.plot([0, 1], [0, 1], 'k--', label='Random Guess')\n",
        "plt.xlabel('False Positive Rate (FPR)')\n",
        "plt.ylabel('True Positive Rate (TPR)')\n",
        "plt.title('ROC Curve')\n",
        "plt.legend(loc='lower right')\n",
        "plt.show()"
      ]
    },
    {
      "cell_type": "markdown",
      "metadata": {
        "id": "lo76CbUtpDxV"
      },
      "source": [
        "### Determine the best threshold parameter"
      ]
    },
    {
      "cell_type": "code",
      "execution_count": 53,
      "metadata": {
        "colab": {
          "base_uri": "https://localhost:8080/"
        },
        "id": "Iqim_P7cVYkh",
        "outputId": "5ac187cf-8d87-44fc-e476-8ddaa73a6f6f"
      },
      "outputs": [
        {
          "data": {
            "text/plain": [
              "np.float64(0.4829518014622656)"
            ]
          },
          "execution_count": 53,
          "metadata": {},
          "output_type": "execute_result"
        }
      ],
      "source": [
        "# calculate the distance to the top-left corner (0, 1) for each threshold\n",
        "distances = np.sqrt((1 - tpr) ** 2 + fpr ** 2)\n",
        "\n",
        "# find the index of the smallest distance\n",
        "optimal_index = np.argmin(distances)\n",
        "\n",
        "# get the optimal threshold\n",
        "optimal_threshold = thresholds[optimal_index]\n",
        "optimal_threshold"
      ]
    },
    {
      "cell_type": "markdown",
      "metadata": {
        "id": "CqHqAc8spWYP"
      },
      "source": [
        "### Find the TPR, FPR of this threshold"
      ]
    },
    {
      "cell_type": "code",
      "execution_count": 54,
      "metadata": {
        "id": "MZNLrXNCpVQA"
      },
      "outputs": [],
      "source": [
        "# print(fpr[optimal_index])\n",
        "# print(tpr[optimal_index])"
      ]
    }
  ],
  "metadata": {
    "colab": {
      "provenance": []
    },
    "kernelspec": {
      "display_name": "Python 3",
      "name": "python3"
    },
    "language_info": {
      "codemirror_mode": {
        "name": "ipython",
        "version": 3
      },
      "file_extension": ".py",
      "mimetype": "text/x-python",
      "name": "python",
      "nbconvert_exporter": "python",
      "pygments_lexer": "ipython3",
      "version": "3.12.4"
    }
  },
  "nbformat": 4,
  "nbformat_minor": 0
}
